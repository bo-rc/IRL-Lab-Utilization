{
 "cells": [
  {
   "cell_type": "code",
   "execution_count": 1,
   "metadata": {},
   "outputs": [],
   "source": [
    "import pandas as pd\n",
    "import numpy as np\n",
    "import matplotlib.pyplot as plt\n",
    "\n",
    "%matplotlib notebook"
   ]
  },
  {
   "cell_type": "code",
   "execution_count": 2,
   "metadata": {
    "collapsed": true
   },
   "outputs": [],
   "source": [
    "import sys,re,collections\n",
    "\n",
    "from oauth2client import client\n",
    "from googleapiclient import sample_tools"
   ]
  },
  {
   "cell_type": "code",
   "execution_count": 5,
   "metadata": {},
   "outputs": [],
   "source": [
    "class PI:\n",
    "    PI_list = collections.defaultdict(list)\n",
    "    proj_list = collections.defaultdict(str)\n",
    "    def __init__(self, **kwargs):\n",
    "        self.name = kwargs.get('name', '')\n",
    "        self.dept = kwargs.get('dept', [])\n",
    "        self.proj = kwargs.get('proj', [])\n",
    "        for p in self.proj:\n",
    "            if not p in PI.PI_list[self.name]:\n",
    "                PI.PI_list[self.name].append(p)\n",
    "                \n",
    "            if not p in PI.proj_list.keys():\n",
    "                PI.proj_list[p] = self.name\n",
    "    \n",
    "    def __repr__(self):\n",
    "        return 'PI: {} '.format(self.name) + ','.join(self.dept) + ' ' + ','.join(self.proj)\n",
    "    \n",
    "    def add_dept(s):\n",
    "        self.dept.append(s)\n",
    "        \n",
    "    def add_proj(self, s):\n",
    "        self.proj.append(s)\n",
    "    \n",
    "    @classmethod\n",
    "    def get_PI_list(cls):\n",
    "        return cls.PI_list\n",
    "    \n",
    "    @classmethod\n",
    "    def get_proj_list(cls):\n",
    "        return cls.proj_list\n"
   ]
  },
  {
   "cell_type": "code",
   "execution_count": 8,
   "metadata": {},
   "outputs": [
    {
     "name": "stdout",
     "output_type": "stream",
     "text": [
      "defaultdict(<class 'list'>, {'Lui Sha': ['2016-08-100-02'], 'Romit Roy Choudhury': ['2017-06-100-01', '2016-08-100-01', '2017-02-100-01'], 'Sayan Mitra': ['2016-06-103-01', '2017-03-103-01'], 'Girish Krishnan': ['2017-03-106-01'], 'Seth Hutchinson': ['2016-10-103-02', '2016-10-103-01'], 'Grace Gao': ['2016-11-103-01'], 'Minh Do': ['2016-11-103-02'], 'Timothy Bretl': ['2017-02-103-02'], 'Michael Selig': ['2017-02-102-01'], 'Hae-Won Park': ['2017-02-101-01'], 'Aimy Wissa': ['2017-04-101-01'], 'Philip Ansell': ['2017-01-102-01'], 'Girish Chowdhary': ['2016-11-105-01', '2016-10-105-01'], 'Amy LaViers': ['2016-12-101-01'], 'Naira Hovakimyan': ['2016-08-101-01']})\n",
      "\n",
      "\n",
      "defaultdict(<class 'str'>, {'2016-08-100-02': 'Lui Sha', '2017-06-100-01': 'Romit Roy Choudhury', '2016-06-103-01': 'Sayan Mitra', '2017-03-106-01': 'Girish Krishnan', '2016-10-103-02': 'Seth Hutchinson', '2016-11-103-01': 'Grace Gao', '2016-11-103-02': 'Minh Do', '2017-02-103-02': 'Timothy Bretl', '2017-02-102-01': 'Michael Selig', '2017-02-101-01': 'Hae-Won Park', '2017-04-101-01': 'Aimy Wissa', '2017-03-103-01': 'Sayan Mitra', '2017-01-102-01': 'Philip Ansell', '2016-08-100-01': 'Romit Roy Choudhury', '2016-11-105-01': 'Girish Chowdhary', '2016-10-105-01': 'Girish Chowdhary', '2016-10-103-01': 'Seth Hutchinson', '2017-02-100-01': 'Romit Roy Choudhury', '2016-12-101-01': 'Amy LaViers', '2016-08-101-01': 'Naira Hovakimyan'})\n"
     ]
    }
   ],
   "source": [
    "LuiSha = PI(name='Lui Sha',dept=['CS'],proj=['2016-08-100-02'])\n",
    "RomitChoudhury = PI(name='Romit Roy Choudhury',dept=['ECE'],proj=['2017-06-100-01'])\n",
    "SayanMitra = PI(name='Sayan Mitra',dept=['ECE'],proj=['2016-06-103-01'])\n",
    "GirishKrishnan = PI(name='Girish Krishnan',dept=['ISE'],proj=['2017-03-106-01'])\n",
    "SethHutchinson = PI(name='Seth Hutchinson', dept=['ECE'],proj=['2016-10-103-02', '2016-10-103-01'])\n",
    "GraceGao = PI(name='Grace Gao', dept=['AE'], proj=['2016-11-103-01'])\n",
    "MinhDo = PI(name='Minh Do', dept=['ECE'], proj=['2016-11-103-02'])\n",
    "TimBretl = PI(name='Timothy Bretl', dept=['AE'], proj=['2017-02-103-02'])\n",
    "MichaelSelig = PI(name='Michael Selig', dept=['AE'], proj=['2017-02-102-01'])\n",
    "HwPark = PI(name='Hae-Won Park', dept=['ME'], proj=['2017-02-101-01'])\n",
    "AimyWissa = PI(name='Aimy Wissa', dept=['ME'], proj=['2017-04-101-01'])\n",
    "SayanMitra = PI(name='Sayan Mitra', dept=['ECE'], proj=['2017-03-103-01'])\n",
    "PhilipAnsell = PI(name='Philip Ansell', dept=['AE'], proj=['2017-01-102-01'])\n",
    "RomitRoyChoudhury = PI(name='Romit Roy Choudhury', dept=['ECE'], proj=['2016-08-100-01', '2017-02-100-01'])\n",
    "GirishChowdhary = PI(name='Girish Chowdhary', dept=['ABE'], proj=['2016-11-105-01', '2016-10-105-01'])\n",
    "AmyLaViers = PI(name='Amy LaViers', dept=['ME'], proj=['2016-12-101-01'])\n",
    "NairaHovakimyan = PI(name='Naira Hovakimyan', dept=['ME'], proj=['2016-08-101-01'])\n",
    "\n",
    "\n",
    "proj_number = PI.get_proj_list()\n",
    "PIs = PI.get_PI_list()\n",
    "    \n",
    "print(PIs)\n",
    "\n",
    "print('\\n')\n",
    "print(proj_number)"
   ]
  },
  {
   "cell_type": "code",
   "execution_count": null,
   "metadata": {
    "collapsed": true
   },
   "outputs": [],
   "source": []
  }
 ],
 "metadata": {
  "kernelspec": {
   "display_name": "Python 3",
   "language": "python",
   "name": "python3"
  },
  "language_info": {
   "codemirror_mode": {
    "name": "ipython",
    "version": 3
   },
   "file_extension": ".py",
   "mimetype": "text/x-python",
   "name": "python",
   "nbconvert_exporter": "python",
   "pygments_lexer": "ipython3",
   "version": "3.6.2"
  }
 },
 "nbformat": 4,
 "nbformat_minor": 2
}
