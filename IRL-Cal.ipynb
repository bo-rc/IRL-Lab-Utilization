{
 "cells": [
  {
   "cell_type": "code",
   "execution_count": 5,
   "metadata": {
    "collapsed": true
   },
   "outputs": [],
   "source": [
    "import sys,re,collections\n",
    "\n",
    "from oauth2client import client\n",
    "from googleapiclient import sample_tools"
   ]
  },
  {
   "cell_type": "code",
   "execution_count": 36,
   "metadata": {
    "collapsed": true
   },
   "outputs": [],
   "source": [
    "class PI:\n",
    "    \n",
    "    def __init__(self, **kwargs):\n",
    "        self.name = kwargs.get('name', '')\n",
    "        self.dept = kwargs.get('dept', [])\n",
    "        self.proj = kwargs.get('proj', [])\n",
    "    \n",
    "    def __repr__(self):\n",
    "        return 'PI: {} '.format(self.name) + ','.join(self.dept) + ' ' + ','.join(self.proj)\n",
    "    \n",
    "    def add_dept(s):\n",
    "        self.dept.append(s)\n",
    "        \n",
    "    def add_proj(self, s):\n",
    "        self.proj.append(s)"
   ]
  },
  {
   "cell_type": "code",
   "execution_count": 37,
   "metadata": {},
   "outputs": [
    {
     "name": "stdout",
     "output_type": "stream",
     "text": [
      "PI: Lui Sha CS 2016-08-100-02\n",
      "PI: Romit Roy Choudhury ECE 2017-06-100-01\n",
      "PI: Sayan Mitra ECE 2016-06-103-01\n",
      "PI: Girish Krishnan ISE 2017-03-106-01\n",
      "PI:   \n"
     ]
    }
   ],
   "source": [
    "LuiSha = PI(name='Lui Sha',dept=['CS'],proj=['2016-08-100-02'])\n",
    "RomitChoudhury = PI(name='Romit Roy Choudhury',dept=['ECE'],proj=['2017-06-100-01'])\n",
    "SayanMitra = PI(name='Sayan Mitra',dept=['ECE'],proj=['2016-06-103-01'])\n",
    "GirishKrishnan = PI(name='Girish Krishnan',dept=['ISE'],proj=['2017-03-106-01'])\n",
    "SethHutchinson = PI(name='Seth Hutchinson', dept=['ECE'],proj=['2016-10-103-02'])\n",
    "GraceGao = PI(name='Grace Gao', dept=['AE'], proj=['2016-11-103-01'])\n",
    "\n",
    "\n",
    "PI_list = [LuiSha, RomitChoudhury, SayanMitra, GirishKrishnan, SethHutchinson]\n",
    "\n",
    "proj_mapping = collections.defaultdict(PI)\n",
    "proj_mapping = {'2016-08-100-02': LuiSha, \n",
    "                '2017-06-100-01': RomitChoudhury,\n",
    "                '2016-06-103-01': SayanMitra,\n",
    "                '2017-03-106-01': GirishKrishnan,\n",
    "                '2016-10-103-02': SethHutchinson}\n",
    "\n",
    "for pi in PI_list:\n",
    "    print(pi)"
   ]
  },
  {
   "cell_type": "code",
   "execution_count": 6,
   "metadata": {},
   "outputs": [],
   "source": [
    "proj_mapping = collections.defaultdict(list)\n",
    "proj_mapping = {'2016-08-100-02': ['Lui Sha',['CS']], \n",
    "                '2017-06-100-01': ['Romit Roy Choudhury',['ECE']],\n",
    "                '2016-06-103-01': ['Sayan Mitra',['ECE']],\n",
    "                '2017-03-106-01': ['Girish Krishnan',['ISE']],\n",
    "                ''}"
   ]
  },
  {
   "cell_type": "code",
   "execution_count": 7,
   "metadata": {},
   "outputs": [
    {
     "data": {
      "text/plain": [
       "['Lui Sha', ['CS']]"
      ]
     },
     "execution_count": 7,
     "metadata": {},
     "output_type": "execute_result"
    }
   ],
   "source": [
    "proj_mapping['2016-08-100-02']"
   ]
  },
  {
   "cell_type": "code",
   "execution_count": null,
   "metadata": {
    "collapsed": true
   },
   "outputs": [],
   "source": []
  }
 ],
 "metadata": {
  "kernelspec": {
   "display_name": "Python [conda env:GoogleCal]",
   "language": "python",
   "name": "conda-env-GoogleCal-py"
  },
  "language_info": {
   "codemirror_mode": {
    "name": "ipython",
    "version": 3
   },
   "file_extension": ".py",
   "mimetype": "text/x-python",
   "name": "python",
   "nbconvert_exporter": "python",
   "pygments_lexer": "ipython3",
   "version": "3.6.2"
  }
 },
 "nbformat": 4,
 "nbformat_minor": 2
}
